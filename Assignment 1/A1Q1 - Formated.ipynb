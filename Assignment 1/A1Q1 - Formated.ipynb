{
 "cells": [
  {
   "cell_type": "markdown",
   "metadata": {},
   "source": [
    "# ELE2769 -  Remote Sensing Image Analysis - Assignment 1"
   ]
  },
  {
   "cell_type": "markdown",
   "metadata": {},
   "source": [
    "## 1st Problem - Image Pan-Sharpening Correction"
   ]
  },
  {
   "cell_type": "markdown",
   "metadata": {},
   "source": [
    "### Introduction"
   ]
  },
  {
   "cell_type": "markdown",
   "metadata": {},
   "source": [
    " Lorem ipsum dolor sit amet, consectetur adipiscing elit. Ut laoreet ex non quam cursus mollis. Pellentesque tempor vestibulum massa vitae condimentum. Ut luctus magna quis nisl gravida, at tincidunt odio mollis. Donec scelerisque posuere orci at rutrum. Nulla auctor massa ac nulla condimentum, at faucibus quam mattis. Duis pellentesque magna sit amet lorem congue volutpat. Cras sed tortor quis lorem euismod finibus maximus vel urna. Duis euismod enim faucibus mauris pretium vestibulum. Maecenas ut arcu ex.\n",
    "\n",
    "Fusce tempor ipsum quis rhoncus volutpat. In molestie tortor id tristique condimentum. Nulla id erat vitae velit efficitur bibendum. Duis blandit at erat ac vehicula. Quisque eu purus in orci egestas commodo in nec metus. Donec pulvinar fermentum enim feugiat ornare. Pellentesque cursus imperdiet porttitor. Lorem ipsum dolor sit amet, consectetur adipiscing elit. Sed semper, velit at dignissim dapibus, nisl turpis rhoncus massa, in consequat magna magna ac dolor. Aliquam vitae mattis leo, eu egestas nulla. Vestibulum ante ipsum primis in faucibus orci luctus et ultrices posuere cubilia Curae; Aliquam mauris nibh, imperdiet id malesuada a, consectetur non sapien. Ut ultricies eros augue, ac pellentesque quam luctus mollis.\n",
    "\n",
    "Nullam ultricies, sapien sed tempus eleifend, dui lorem pellentesque orci, sit amet ultricies odio quam ut nisi. Vestibulum cursus, turpis id euismod porta, elit metus posuere mauris, eu bibendum tortor eros sed augue. Nam eu tortor diam. Nullam et arcu vitae ligula dapibus ultrices. Quisque nisi tellus, fringilla ac auctor nec, ullamcorper nec enim. Ut porttitor commodo gravida. Donec facilisis est in justo vulputate, at facilisis odio maximus. Praesent auctor auctor odio eget efficitur. Morbi molestie sem vel feugiat posuere. Fusce ultrices iaculis lorem, sed mollis nibh egestas sed. Aliquam volutpat a quam nec imperdiet. "
   ]
  },
  {
   "cell_type": "markdown",
   "metadata": {},
   "source": [
    "### Notebook Setup:"
   ]
  },
  {
   "cell_type": "code",
   "execution_count": null,
   "metadata": {},
   "outputs": [],
   "source": [
    "%matplotlib notebook\n",
    "import numpy as np \n",
    "import matplotlib as mpl\n",
    "import matplotlib.pyplot as plt\n",
    "import cv2\n",
    "from sklearn.decomposition import PCA"
   ]
  },
  {
   "cell_type": "code",
   "execution_count": null,
   "metadata": {},
   "outputs": [],
   "source": [
    "save_figs = False\n",
    "dpi = 200"
   ]
  },
  {
   "cell_type": "markdown",
   "metadata": {},
   "source": [
    "### Defining the functions we'll need"
   ]
  },
  {
   "cell_type": "markdown",
   "metadata": {},
   "source": [
    " Lorem ipsum dolor sit amet, consectetur adipiscing elit. Ut laoreet ex non quam cursus mollis. Pellentesque tempor vestibulum massa vitae condimentum. Ut luctus magna quis nisl gravida, at tincidunt odio mollis. Donec scelerisque posuere orci at rutrum. Nulla auctor massa ac nulla condimentum, at faucibus quam mattis. Duis pellentesque magna sit amet lorem congue volutpat. Cras sed tortor quis lorem euismod finibus maximus vel urna. Duis euismod enim faucibus mauris pretium vestibulum. Maecenas ut arcu ex."
   ]
  },
  {
   "cell_type": "code",
   "execution_count": null,
   "metadata": {},
   "outputs": [],
   "source": [
    "def multichannel(chn1, chn2, chn3):\n",
    "    '''This function takes in 3 same sized channels and puts them together in a single image'''\n",
    "    \n",
    "    if chn1.shape == chn2.shape == chn3.shape:\n",
    "        im_out = np.zeros(chn1.shape + (3,))\n",
    "        im_out[:,:,0] = chn1\n",
    "        im_out[:,:,1] = chn2\n",
    "        im_out[:,:,2] = chn3\n",
    "        \n",
    "        return im_out\n",
    "    \n",
    "    else:\n",
    "        print('The Channels Must be The Same Size')"
   ]
  },
  {
   "cell_type": "code",
   "execution_count": null,
   "metadata": {},
   "outputs": [],
   "source": [
    "def pansharpening_HSV(im_in, im_pan):\n",
    "    '''This function takes the RGB image, converts it to HSV and substitutes the V by the Pan band value of a same sized image'''\n",
    "    \n",
    "    if im_in.shape[:2] == im_pan.shape:\n",
    "        im_in = im_in\n",
    "        im_pan = im_pan\n",
    "        img_HSV_in = cv2.cvtColor(im_in.astype('uint8'), cv2.COLOR_RGB2HSV)\n",
    "        img_HSV_in[:,:,2] = im_pan\n",
    "        img_HSV_out = cv2.cvtColor(img_HSV_in.astype('uint8'), cv2.COLOR_HSV2RGB)\n",
    "\n",
    "        return img_HSV_out\n",
    "    \n",
    "    else:\n",
    "        print('The X Y Sizes Should be the Same')"
   ]
  },
  {
   "cell_type": "code",
   "execution_count": null,
   "metadata": {},
   "outputs": [],
   "source": [
    "def pansharpening_PCA(im_in, im_pan, ms=True, report=False):\n",
    "    '''This function takes the input image (RGB), executes a PCA analysis and substitutes the PC1 by the Pan band value of a same sized image. \n",
    "    The ms input=True will adjust the mean and standard deviation of the Pan data to that of the PC1.\n",
    "    The report mode returns the PC1 and pan linear arrays'''\n",
    "\n",
    "    \n",
    "    \n",
    "    if im_in.shape[:2] == im_pan.shape:\n",
    "        new_shape = (im_in.shape[0]*im_in.shape[1],3)\n",
    "        pan_newshape = im_pan.reshape(new_shape[0])\n",
    "        \n",
    "        \n",
    "        pca = PCA(n_components=2)\n",
    "        pcomponents = pca.fit_transform(im_in.reshape(new_shape))\n",
    "        \n",
    "        if ms == True:\n",
    "            adjusted_pan = adjust_dist(pan_newshape, pcomponents[:,0])\n",
    "        else:\n",
    "            adjusted_pan = pan_newshape\n",
    "        \n",
    "        pcomponents[:,0] = adjusted_pan\n",
    "        \n",
    "        \n",
    "        im_out = pca.inverse_transform(pcomponents)\n",
    "        im_out = im_out.reshape(im_in.shape)\n",
    "        \n",
    "        if report == False:\n",
    "            return im_out\n",
    "        else:\n",
    "            return pcomponents[:,0], pan_newshape\n",
    "    \n",
    "    else:\n",
    "        print('The X Y Sizes Should be the Same')"
   ]
  },
  {
   "cell_type": "code",
   "execution_count": null,
   "metadata": {},
   "outputs": [],
   "source": [
    "def adjust_dist(in_dist, out_dist, report=False):\n",
    "    '''This function takes in a distribution and adjusts its std and mean to that of the out distribution\n",
    "    The report mode outputs the std and mean of the adjusted distribution'''\n",
    "    adjusted_dist = np.float64(np.mean(out_dist) + (in_dist - np.mean(in_dist))*(np.std(out_dist)/np.std(in_dist)))\n",
    "    \n",
    "    if report==True:\n",
    "        mean = np.mean(adjusted_dist)\n",
    "        std = np.std(adjusted_dist)\n",
    "        print(\"The mean is {}, the std is {}\".format(mean, std))\n",
    "        return adjusted_dist\n",
    "    else:\n",
    "        return adjusted_dist"
   ]
  },
  {
   "cell_type": "markdown",
   "metadata": {},
   "source": [
    "### Loading the raw images"
   ]
  },
  {
   "cell_type": "markdown",
   "metadata": {},
   "source": [
    "**Loading the data. As OpenCV and matplotlib deals with greyscale images differently (0-255 for openCV and 0-1 for mplt), all images read with mpl are multiplied by 255 to account for this difference and prevent any problems**"
   ]
  },
  {
   "cell_type": "code",
   "execution_count": null,
   "metadata": {},
   "outputs": [],
   "source": [
    "img_preffix = 'img_raw_'\n",
    "img_raw = ['red', 'grn', 'blu', 'nir', 'pan']\n",
    "for i in range(len(img_raw)):\n",
    "    var = img_preffix + img_raw[i]\n",
    "    vars()[var] = plt.imread('sjc_'+img_raw[i]+'.png')*255"
   ]
  },
  {
   "cell_type": "markdown",
   "metadata": {},
   "source": [
    "### PAN vs Single bands"
   ]
  },
  {
   "cell_type": "code",
   "execution_count": null,
   "metadata": {},
   "outputs": [],
   "source": [
    "fig,((ax1, ax2),(ax3, ax4),(ax5, ax6)) = plt.subplots(3,2, figsize = (8,8))\n",
    "\n",
    "axes = [ax1, ax2, ax3, ax4, ax5, ax6]\n",
    "data = [img_raw_red, img_raw_grn, img_raw_blu, img_raw_nir, img_raw_pan]\n",
    "titles = ['Red', 'Green', 'Blue', 'NIR', 'Pan']\n",
    "\n",
    "for i in range(5):\n",
    "\n",
    "    axes[i].imshow(data[i])\n",
    "    axes[i].set_axis_off()\n",
    "    axes[i].set_title(titles[i]+' Channel')\n",
    "\n",
    "ax6.axis('off')\n",
    "fig.tight_layout()\n",
    "fig.suptitle('Comparing R,G,B and Pan band resolution ')\n",
    "\n",
    "\n",
    "if save_figs == True:\n",
    "    plt.savefig('raw_channels.tiff', dpi=dpi)"
   ]
  },
  {
   "cell_type": "markdown",
   "metadata": {},
   "source": [
    " Lorem ipsum dolor sit amet, consectetur adipiscing elit. Ut laoreet ex non quam cursus mollis. Pellentesque tempor vestibulum massa vitae condimentum. Ut luctus magna quis nisl gravida, at tincidunt odio mollis. Donec scelerisque posuere orci at rutrum. Nulla auctor massa ac nulla condimentum, at faucibus quam mattis. Duis pellentesque magna sit amet lorem congue volutpat. Cras sed tortor quis lorem euismod finibus maximus vel urna. Duis euismod enim faucibus mauris pretium vestibulum. Maecenas ut arcu ex."
   ]
  },
  {
   "cell_type": "markdown",
   "metadata": {},
   "source": [
    "Putting the Channels together to into 2 pictures (R,G,B) and (NIR,R,G)"
   ]
  },
  {
   "cell_type": "markdown",
   "metadata": {},
   "source": [
    "### Comparing RGB with NIR RG"
   ]
  },
  {
   "cell_type": "code",
   "execution_count": null,
   "metadata": {},
   "outputs": [],
   "source": [
    "img_rgb = multichannel(img_raw_red,img_raw_grn,img_raw_blu)\n",
    "img_nrg = multichannel(img_raw_nir,img_raw_red,img_raw_blu)"
   ]
  },
  {
   "cell_type": "code",
   "execution_count": null,
   "metadata": {},
   "outputs": [],
   "source": [
    "fig,(ax1, ax2) = plt.subplots(1,2, figsize = (8,8))\n",
    "\n",
    "axes = [ax1, ax2]\n",
    "data = [img_rgb, img_nrg]\n",
    "titles = ['RGB', 'NIR RG']\n",
    "\n",
    "for i in range(2):\n",
    "\n",
    "    axes[i].imshow(data[i].astype('uint8'))\n",
    "    axes[i].set_axis_off()\n",
    "    axes[i].set_title('Unscaled '+titles[i]+' Channel')\n",
    "\n",
    "fig.tight_layout()\n",
    "fig.suptitle('Comparing RGB vs NIR RG band composition')\n",
    "if save_figs == True:\n",
    "    plt.savefig('compose_channels.tiff', dpi=dpi)"
   ]
  },
  {
   "cell_type": "markdown",
   "metadata": {},
   "source": [
    " Lorem ipsum dolor sit amet, consectetur adipiscing elit. Ut laoreet ex non quam cursus mollis. Pellentesque tempor vestibulum massa vitae condimentum. Ut luctus magna quis nisl gravida, at tincidunt odio mollis. Donec scelerisque posuere orci at rutrum. Nulla auctor massa ac nulla condimentum, at faucibus quam mattis. Duis pellentesque magna sit amet lorem congue volutpat. Cras sed tortor quis lorem euismod finibus maximus vel urna. Duis euismod enim faucibus mauris pretium vestibulum. Maecenas ut arcu ex."
   ]
  },
  {
   "cell_type": "markdown",
   "metadata": {},
   "source": [
    "Resizing the images to the same size as PAN using 3 different interpolation methods: nearest neighborhood, bilinear, bicubic"
   ]
  },
  {
   "cell_type": "markdown",
   "metadata": {},
   "source": [
    "### Comparing different interpolation methods"
   ]
  },
  {
   "cell_type": "code",
   "execution_count": null,
   "metadata": {},
   "outputs": [],
   "source": [
    "img_rgb_resize_nn = cv2.resize((img_rgb),img_raw_pan.shape,interpolation = cv2.INTER_NEAREST)\n",
    "img_rgb_resize_bl = cv2.resize((img_rgb),img_raw_pan.shape,interpolation = cv2.INTER_LINEAR)\n",
    "img_rgb_resize_bc = cv2.resize((img_rgb),img_raw_pan.shape,interpolation = cv2.INTER_CUBIC)"
   ]
  },
  {
   "cell_type": "code",
   "execution_count": null,
   "metadata": {},
   "outputs": [],
   "source": [
    "img_nrg_resize_nn = cv2.resize((img_nrg),img_raw_pan.shape,interpolation = cv2.INTER_NEAREST)\n",
    "img_nrg_resize_bl = cv2.resize((img_nrg),img_raw_pan.shape,interpolation = cv2.INTER_LINEAR)\n",
    "img_nrg_resize_bc = cv2.resize((img_nrg),img_raw_pan.shape,interpolation = cv2.INTER_CUBIC)"
   ]
  },
  {
   "cell_type": "code",
   "execution_count": null,
   "metadata": {},
   "outputs": [],
   "source": [
    "fig, ((ax1, ax2),(ax3, ax4),(ax5, ax6)) = plt.subplots(3,2, figsize = (8,8))\n",
    "\n",
    "ax1.imshow(img_rgb_resize_nn.astype('uint8'))\n",
    "ax1.set_axis_off()\n",
    "ax1.set_title('Rescaled RGB Image \\n Nearest Neighborhood Method', fontsize = 8)\n",
    "\n",
    "ax3.imshow(img_rgb_resize_bl.astype('uint8'))\n",
    "ax3.set_axis_off()\n",
    "ax3.set_title('Rescaled RGB Image \\n Bilinear Method', fontsize = 8)\n",
    "\n",
    "ax5.imshow(img_rgb_resize_bc.astype('uint8'))\n",
    "ax5.set_axis_off()\n",
    "ax5.set_title('Rescaled RGB Image \\n Bicubic Method', fontsize = 8)\n",
    "\n",
    "ax2.imshow(img_nrg_resize_nn.astype('uint8'))\n",
    "ax2.set_axis_off()\n",
    "ax2.set_title('Rescaled NIR RG Image \\n Nearest Neighborhood Method', fontsize = 8)\n",
    "\n",
    "ax4.imshow(img_nrg_resize_bl.astype('uint8'))\n",
    "ax4.set_axis_off()\n",
    "ax4.set_title('Rescaled NIR RG Image \\n Bilinear Method', fontsize = 8)\n",
    "\n",
    "\n",
    "ax6.imshow(img_nrg_resize_bc.astype('uint8'))\n",
    "ax6.set_axis_off()\n",
    "ax6.set_title('Rescaled NIR RG Image \\n Bicubic Method', fontsize = 8)\n",
    "\n",
    "fig.suptitle('The effect of interpolation on image rescaling')\n",
    "fig.tight_layout()\n",
    "\n",
    "\n",
    "if save_figs == True:\n",
    "    plt.savefig('rescale.tiff', dpi=dpi)"
   ]
  },
  {
   "cell_type": "markdown",
   "metadata": {},
   "source": [
    " Lorem ipsum dolor sit amet, consectetur adipiscing elit. Ut laoreet ex non quam cursus mollis. Pellentesque tempor vestibulum massa vitae condimentum. Ut luctus magna quis nisl gravida, at tincidunt odio mollis. Donec scelerisque posuere orci at rutrum. Nulla auctor massa ac nulla condimentum, at faucibus quam mattis. Duis pellentesque magna sit amet lorem congue volutpat. Cras sed tortor quis lorem euismod finibus maximus vel urna. Duis euismod enim faucibus mauris pretium vestibulum. Maecenas ut arcu ex."
   ]
  },
  {
   "cell_type": "markdown",
   "metadata": {},
   "source": [
    "### Pan-Sharpening HSV in all interpolation methods"
   ]
  },
  {
   "cell_type": "code",
   "execution_count": null,
   "metadata": {},
   "outputs": [],
   "source": [
    "img_Pan_rgb_nn = pansharpening_HSV(img_rgb_resize_nn,img_raw_pan)\n",
    "img_Pan_rgb_bl = pansharpening_HSV(img_rgb_resize_bl,img_raw_pan)\n",
    "img_Pan_rgb_bc = pansharpening_HSV(img_rgb_resize_bc,img_raw_pan)"
   ]
  },
  {
   "cell_type": "code",
   "execution_count": null,
   "metadata": {},
   "outputs": [],
   "source": [
    "img_Pan_nrg_nn = pansharpening_HSV(img_nrg_resize_nn,img_raw_pan)\n",
    "img_Pan_nrg_bl = pansharpening_HSV(img_nrg_resize_bl,img_raw_pan)\n",
    "img_Pan_nrg_bc = pansharpening_HSV(img_nrg_resize_bc,img_raw_pan)"
   ]
  },
  {
   "cell_type": "code",
   "execution_count": null,
   "metadata": {},
   "outputs": [],
   "source": [
    "fig, ((ax1, ax2),(ax3, ax4),(ax5, ax6)) = plt.subplots(3,2, figsize = (8,8))\n",
    "\n",
    "ax1.imshow(img_Pan_rgb_nn)\n",
    "ax1.set_axis_off()\n",
    "ax1.set_title('HSV Pan-Sharpened RGB Image \\n Nearest Neighborhood Method', fontsize = 8)\n",
    "\n",
    "ax3.imshow(img_Pan_rgb_bl)\n",
    "ax3.set_axis_off()\n",
    "ax3.set_title('HSV Pan-Sharpened RGB Image \\n Bilinear Method', fontsize = 8)\n",
    "\n",
    "ax5.imshow(img_Pan_rgb_bc)\n",
    "ax5.set_axis_off()\n",
    "ax5.set_title('HSV Pan-Sharpened RGB Image \\n Bicubic Method', fontsize = 8)\n",
    "\n",
    "ax2.imshow(img_Pan_nrg_nn)\n",
    "ax2.set_axis_off()\n",
    "ax2.set_title('HSV Pan-Sharpened NIR RG Image \\n Nearest Neighborhood Method', fontsize = 8)\n",
    "\n",
    "ax4.imshow(img_Pan_nrg_bl)\n",
    "ax4.set_axis_off()\n",
    "ax4.set_title('HSV Pan-Sharpened NIR RG Image \\n Bilinear Method', fontsize = 8)\n",
    "\n",
    "\n",
    "ax6.imshow(img_Pan_nrg_bc)\n",
    "ax6.set_axis_off()\n",
    "ax6.set_title('HSV Pan-Sharpened NIR RG Image \\n Bicubic Method', fontsize = 8)\n",
    "\n",
    "fig.suptitle('The effect of interpolation on image Pan_Sharpening')\n",
    "fig.tight_layout()\n",
    "\n",
    "\n",
    "if save_figs == True:\n",
    "    plt.savefig('hsi_pansharp.tiff', dpi=dpi)"
   ]
  },
  {
   "cell_type": "markdown",
   "metadata": {},
   "source": [
    "### Adjusting the mean and std"
   ]
  },
  {
   "cell_type": "markdown",
   "metadata": {},
   "source": [
    " Lorem ipsum dolor sit amet, consectetur adipiscing elit. Ut laoreet ex non quam cursus mollis. Pellentesque tempor vestibulum massa vitae condimentum. Ut luctus magna quis nisl gravida, at tincidunt odio mollis. Donec scelerisque posuere orci at rutrum. Nulla auctor massa ac nulla condimentum, at faucibus quam mattis. Duis pellentesque magna sit amet lorem congue volutpat. Cras sed tortor quis lorem euismod finibus maximus vel urna. Duis euismod enim faucibus mauris pretium vestibulum. Maecenas ut arcu ex."
   ]
  },
  {
   "cell_type": "markdown",
   "metadata": {},
   "source": [
    "Consider a distribution $(x_i)$ with mean $m_1$ and standard deviation $s_1$ that we want to approximate to the mean and standard deviation of a second distribution, $m_2$ and $s_2$ respectively. The adjusted distribution can be calculated as:\n",
    "\n",
    "$$y_i = m_2 + (x_i - m_i)*\\frac{s_2}{s_1}$$"
   ]
  },
  {
   "cell_type": "code",
   "execution_count": null,
   "metadata": {},
   "outputs": [],
   "source": [
    "pc1, pan = pansharpening_PCA(img_rgb_resize_nn, img_raw_pan, report=True)"
   ]
  },
  {
   "cell_type": "code",
   "execution_count": null,
   "metadata": {},
   "outputs": [],
   "source": [
    "adjusted = adjust_dist(pan, pc1)"
   ]
  },
  {
   "cell_type": "code",
   "execution_count": null,
   "metadata": {},
   "outputs": [],
   "source": [
    "fig, (ax1, ax2, ax3) = plt.subplots(3,1)\n",
    "ax1.hist(pc1)\n",
    "ax1.set_xlim(-200,200)\n",
    "ax1.set_title('PC1 distribution')\n",
    "ax2.hist(pan, color='r')\n",
    "ax2.set_xlim(-200,200)\n",
    "ax2.set_title('Pan distribution')\n",
    "ax3.hist(adjusted, color='g')\n",
    "ax3.set_xlim(-200,200)\n",
    "ax3.set_title('Adjusted Pan distribution')\n",
    "\n",
    "fig.suptitle('The effect of mean and STD adjustment')\n",
    "fig.tight_layout()\n",
    "\n",
    "\n",
    "if save_figs == True:\n",
    "    plt.savefig('hsi_pansharp.tiff', dpi=dpi)"
   ]
  },
  {
   "cell_type": "markdown",
   "metadata": {},
   "source": [
    " Lorem ipsum dolor sit amet, consectetur adipiscing elit. Ut laoreet ex non quam cursus mollis. Pellentesque tempor vestibulum massa vitae condimentum. Ut luctus magna quis nisl gravida, at tincidunt odio mollis. Donec scelerisque posuere orci at rutrum. Nulla auctor massa ac nulla condimentum, at faucibus quam mattis. Duis pellentesque magna sit amet lorem congue volutpat. Cras sed tortor quis lorem euismod finibus maximus vel urna. Duis euismod enim faucibus mauris pretium vestibulum. Maecenas ut arcu ex."
   ]
  },
  {
   "cell_type": "markdown",
   "metadata": {},
   "source": [
    "### The effect of mean and std adjustment in the final PCA Pan-Sharped image"
   ]
  },
  {
   "cell_type": "markdown",
   "metadata": {},
   "source": [
    " Lorem ipsum dolor sit amet, consectetur adipiscing elit. Ut laoreet ex non quam cursus mollis. Pellentesque tempor vestibulum massa vitae condimentum. Ut luctus magna quis nisl gravida, at tincidunt odio mollis. Donec scelerisque posuere orci at rutrum. Nulla auctor massa ac nulla condimentum, at faucibus quam mattis. Duis pellentesque magna sit amet lorem congue volutpat. Cras sed tortor quis lorem euismod finibus maximus vel urna. Duis euismod enim faucibus mauris pretium vestibulum. Maecenas ut arcu ex."
   ]
  },
  {
   "cell_type": "code",
   "execution_count": null,
   "metadata": {},
   "outputs": [],
   "source": [
    "pan_noadjust = pansharpening_PCA(img_rgb_resize_nn,img_raw_pan, ms=False)\n",
    "pan_adjust = pansharpening_PCA(img_rgb_resize_nn,img_raw_pan)\n",
    "\n",
    "fig, axis = plt.subplots(1,2)\n",
    "axis[0].imshow(pan_noadjust.astype('uint8'))\n",
    "axis[0].set_title('No Adjustment', fontsize=10)\n",
    "axis[1].imshow(pan_adjust.astype('uint8'))\n",
    "axis[1].set_title('Adjusted distribution')\n",
    "fig.suptitle('The effect of distribution adjustment in PCA Pan Sharpening', fontsize=10)\n",
    "fig.tight_layout()\n",
    "\n",
    "if save_figs == False:\n",
    "    plt.savefig('magicspell.png', dpi=dpi)"
   ]
  },
  {
   "cell_type": "markdown",
   "metadata": {},
   "source": [
    "### PCA pan sharpening - all interpolationmethods"
   ]
  },
  {
   "cell_type": "markdown",
   "metadata": {},
   "source": [
    " Lorem ipsum dolor sit amet, consectetur adipiscing elit. Ut laoreet ex non quam cursus mollis. Pellentesque tempor vestibulum massa vitae condimentum. Ut luctus magna quis nisl gravida, at tincidunt odio mollis. Donec scelerisque posuere orci at rutrum. Nulla auctor massa ac nulla condimentum, at faucibus quam mattis. Duis pellentesque magna sit amet lorem congue volutpat. Cras sed tortor quis lorem euismod finibus maximus vel urna. Duis euismod enim faucibus mauris pretium vestibulum. Maecenas ut arcu ex."
   ]
  },
  {
   "cell_type": "code",
   "execution_count": null,
   "metadata": {},
   "outputs": [],
   "source": [
    "img_PanPCA_rgb_nn = pansharpening_PCA(img_rgb_resize_nn,img_raw_pan)\n",
    "img_PanPCA_rgb_bl = pansharpening_PCA(img_rgb_resize_bl,img_raw_pan)\n",
    "img_PanPCA_rgb_bc = pansharpening_PCA(img_rgb_resize_bc,img_raw_pan)"
   ]
  },
  {
   "cell_type": "code",
   "execution_count": null,
   "metadata": {},
   "outputs": [],
   "source": [
    "img_PanPCA_nrg_nn = pansharpening_PCA(img_nrg_resize_nn,img_raw_pan)\n",
    "img_PanPCA_nrg_bl = pansharpening_PCA(img_nrg_resize_bl,img_raw_pan)\n",
    "img_PanPCA_nrg_bc = pansharpening_PCA(img_nrg_resize_bc,img_raw_pan)"
   ]
  },
  {
   "cell_type": "code",
   "execution_count": null,
   "metadata": {},
   "outputs": [],
   "source": [
    "fig, ((ax1, ax2),(ax3, ax4),(ax5, ax6)) = plt.subplots(3,2, figsize = (8,8))\n",
    "\n",
    "ax1.imshow(img_PanPCA_rgb_nn.astype('uint8'))\n",
    "ax1.set_axis_off()\n",
    "ax1.set_title('PCA Pan-Sharpened RGB Image \\n Nearest Neighborhood Method', fontsize = 8)\n",
    "\n",
    "ax3.imshow(img_PanPCA_rgb_bl.astype('uint8'))\n",
    "ax3.set_axis_off()\n",
    "ax3.set_title('PCA Pan-Sharpened RGB Image \\n Bilinear Method', fontsize = 8)\n",
    "\n",
    "ax5.imshow(img_PanPCA_rgb_bc.astype('uint8'))\n",
    "ax5.set_axis_off()\n",
    "ax5.set_title('PCA Pan-Sharpened RGB Image \\n Bicubic Method', fontsize = 8)\n",
    "\n",
    "ax2.imshow(img_PanPCA_nrg_nn.astype('uint8'))\n",
    "ax2.set_axis_off()\n",
    "ax2.set_title('PCA Pan-Sharpened NIR RG Image \\n Nearest Neighborhood Method', fontsize = 8)\n",
    "\n",
    "ax4.imshow(img_PanPCA_nrg_bl.astype('uint8'))\n",
    "ax4.set_axis_off()\n",
    "ax4.set_title('PCA Pan-Sharpened NIR RG Image \\n Bilinear Method', fontsize = 8)\n",
    "\n",
    "\n",
    "ax6.imshow(img_PanPCA_nrg_bc.astype('uint8'))\n",
    "ax6.set_axis_off()\n",
    "ax6.set_title('PCA Pan-Sharpened NIR RG Image \\n Bicubic Method', fontsize = 8)\n",
    "\n",
    "fig.tight_layout()\n",
    "\n",
    "if save_figs == True:\n",
    "    plt.savefig('pca_pansharp.tiff', dpi=dpi)"
   ]
  },
  {
   "cell_type": "markdown",
   "metadata": {},
   "source": [
    " Lorem ipsum dolor sit amet, consectetur adipiscing elit. Ut laoreet ex non quam cursus mollis. Pellentesque tempor vestibulum massa vitae condimentum. Ut luctus magna quis nisl gravida, at tincidunt odio mollis. Donec scelerisque posuere orci at rutrum. Nulla auctor massa ac nulla condimentum, at faucibus quam mattis. Duis pellentesque magna sit amet lorem congue volutpat. Cras sed tortor quis lorem euismod finibus maximus vel urna. Duis euismod enim faucibus mauris pretium vestibulum. Maecenas ut arcu ex."
   ]
  },
  {
   "cell_type": "markdown",
   "metadata": {},
   "source": [
    "### Comparing PCA to HSV pan sharpening"
   ]
  },
  {
   "cell_type": "markdown",
   "metadata": {},
   "source": [
    " Lorem ipsum dolor sit amet, consectetur adipiscing elit. Ut laoreet ex non quam cursus mollis. Pellentesque tempor vestibulum massa vitae condimentum. Ut luctus magna quis nisl gravida, at tincidunt odio mollis. Donec scelerisque posuere orci at rutrum. Nulla auctor massa ac nulla condimentum, at faucibus quam mattis. Duis pellentesque magna sit amet lorem congue volutpat. Cras sed tortor quis lorem euismod finibus maximus vel urna. Duis euismod enim faucibus mauris pretium vestibulum. Maecenas ut arcu ex."
   ]
  },
  {
   "cell_type": "code",
   "execution_count": null,
   "metadata": {},
   "outputs": [],
   "source": [
    "HSV_pan = pansharpening_HSV(img_rgb_resize_nn,img_raw_pan)\n",
    "PCA_pan = pansharpening_PCA(img_rgb_resize_nn,img_raw_pan)\n",
    "\n",
    "fig, axis = plt.subplots(1,2)\n",
    "axis[0].imshow(HSV_pan)\n",
    "axis[0].set_title('HSV')\n",
    "axis[1].imshow(PCA_pan.astype('uint8'))\n",
    "axis[1].set_title('PCA')\n",
    "fig.suptitle('HSV vs PCA Pan Sharpening \\n Nearest Neibourhood Interpolation')\n",
    "\n",
    "if save_figs == True:\n",
    "    plt.savefig('hsivsmagicspall', dpi=dpi)"
   ]
  },
  {
   "cell_type": "markdown",
   "metadata": {},
   "source": [
    " Lorem ipsum dolor sit amet, consectetur adipiscing elit. Ut laoreet ex non quam cursus mollis. Pellentesque tempor vestibulum massa vitae condimentum. Ut luctus magna quis nisl gravida, at tincidunt odio mollis. Donec scelerisque posuere orci at rutrum. Nulla auctor massa ac nulla condimentum, at faucibus quam mattis. Duis pellentesque magna sit amet lorem congue volutpat. Cras sed tortor quis lorem euismod finibus maximus vel urna. Duis euismod enim faucibus mauris pretium vestibulum. Maecenas ut arcu ex."
   ]
  },
  {
   "cell_type": "markdown",
   "metadata": {},
   "source": [
    "## Conclusion"
   ]
  },
  {
   "cell_type": "markdown",
   "metadata": {},
   "source": [
    "## 2nd Problem - Georeferencing for area estimation over time"
   ]
  },
  {
   "cell_type": "markdown",
   "metadata": {},
   "source": [
    "### Introduction"
   ]
  },
  {
   "cell_type": "markdown",
   "metadata": {},
   "source": [
    " Lorem ipsum dolor sit amet, consectetur adipiscing elit. Ut laoreet ex non quam cursus mollis. Pellentesque tempor vestibulum massa vitae condimentum. Ut luctus magna quis nisl gravida, at tincidunt odio mollis. Donec scelerisque posuere orci at rutrum. Nulla auctor massa ac nulla condimentum, at faucibus quam mattis. Duis pellentesque magna sit amet lorem congue volutpat. Cras sed tortor quis lorem euismod finibus maximus vel urna. Duis euismod enim faucibus mauris pretium vestibulum. Maecenas ut arcu ex.\n",
    "\n",
    "Fusce tempor ipsum quis rhoncus volutpat. In molestie tortor id tristique condimentum. Nulla id erat vitae velit efficitur bibendum. Duis blandit at erat ac vehicula. Quisque eu purus in orci egestas commodo in nec metus. Donec pulvinar fermentum enim feugiat ornare. Pellentesque cursus imperdiet porttitor. Lorem ipsum dolor sit amet, consectetur adipiscing elit. Sed semper, velit at dignissim dapibus, nisl turpis rhoncus massa, in consequat magna magna ac dolor. Aliquam vitae mattis leo, eu egestas nulla. Vestibulum ante ipsum primis in faucibus orci luctus et ultrices posuere cubilia Curae; Aliquam mauris nibh, imperdiet id malesuada a, consectetur non sapien. Ut ultricies eros augue, ac pellentesque quam luctus mollis.\n",
    "\n",
    "Nullam ultricies, sapien sed tempus eleifend, dui lorem pellentesque orci, sit amet ultricies odio quam ut nisi. Vestibulum cursus, turpis id euismod porta, elit metus posuere mauris, eu bibendum tortor eros sed augue. Nam eu tortor diam. Nullam et arcu vitae ligula dapibus ultrices. Quisque nisi tellus, fringilla ac auctor nec, ullamcorper nec enim. Ut porttitor commodo gravida. Donec facilisis est in justo vulputate, at facilisis odio maximus. Praesent auctor auctor odio eget efficitur. Morbi molestie sem vel feugiat posuere. Fusce ultrices iaculis lorem, sed mollis nibh egestas sed. Aliquam volutpat a quam nec imperdiet. "
   ]
  },
  {
   "cell_type": "markdown",
   "metadata": {},
   "source": [
    "### Methodology"
   ]
  },
  {
   "cell_type": "markdown",
   "metadata": {},
   "source": [
    "Fusce tempor ipsum quis rhoncus volutpat. In molestie tortor id tristique condimentum. Nulla id erat vitae velit efficitur bibendum. Duis blandit at erat ac vehicula. Quisque eu purus in orci egestas commodo in nec metus. Donec pulvinar fermentum enim feugiat ornare. Pellentesque cursus imperdiet porttitor. Lorem ipsum dolor sit amet, consectetur adipiscing elit. Sed semper, velit at dignissim dapibus, nisl turpis rhoncus massa, in consequat magna magna ac dolor. Aliquam vitae mattis leo, eu egestas nulla. Vestibulum ante ipsum primis in faucibus orci luctus et ultrices posuere cubilia Curae; Aliquam mauris nibh, imperdiet id malesuada a, consectetur non sapien. Ut ultricies eros augue, ac pellentesque quam luctus mollis.\n",
    "\n",
    "Nullam ultricies, sapien sed tempus eleifend, dui lorem pellentesque orci, sit amet ultricies odio quam ut nisi. Vestibulum cursus, turpis id euismod porta, elit metus posuere mauris, eu bibendum tortor eros sed augue. Nam eu tortor diam. Nullam et arcu vitae ligula dapibus ultrices. Quisque nisi tellus, fringilla ac auctor nec, ullamcorper nec enim. Ut porttitor commodo gravida. Donec facilisis est in justo vulputate, at facilisis odio maximus. Praesent auctor auctor odio eget efficitur. Morbi molestie sem vel feugiat posuere. Fusce ultrices iaculis lorem, sed mollis nibh egestas sed. Aliquam volutpat a quam nec imperdiet. "
   ]
  },
  {
   "cell_type": "markdown",
   "metadata": {},
   "source": [
    "### Results"
   ]
  },
  {
   "cell_type": "markdown",
   "metadata": {},
   "source": [
    "Fusce tempor ipsum quis rhoncus volutpat. In molestie tortor id tristique condimentum. Nulla id erat vitae velit efficitur bibendum. Duis blandit at erat ac vehicula. Quisque eu purus in orci egestas commodo in nec metus. Donec pulvinar fermentum enim feugiat ornare. Pellentesque cursus imperdiet porttitor. Lorem ipsum dolor sit amet, consectetur adipiscing elit. Sed semper, velit at dignissim dapibus, nisl turpis rhoncus massa, in consequat magna magna ac dolor. Aliquam vitae mattis leo, eu egestas nulla. Vestibulum ante ipsum primis in faucibus orci luctus et ultrices posuere cubilia Curae; Aliquam mauris nibh, imperdiet id malesuada a, consectetur non sapien. Ut ultricies eros augue, ac pellentesque quam luctus mollis.\n",
    "\n",
    "Nullam ultricies, sapien sed tempus eleifend, dui lorem pellentesque orci, sit amet ultricies odio quam ut nisi. Vestibulum cursus, turpis id euismod porta, elit metus posuere mauris, eu bibendum tortor eros sed augue. Nam eu tortor diam. Nullam et arcu vitae ligula dapibus ultrices. Quisque nisi tellus, fringilla ac auctor nec, ullamcorper nec enim. Ut porttitor commodo gravida. Donec facilisis est in justo vulputate, at facilisis odio maximus. Praesent auctor auctor odio eget efficitur. Morbi molestie sem vel feugiat posuere. Fusce ultrices iaculis lorem, sed mollis nibh egestas sed. Aliquam volutpat a quam nec imperdiet. "
   ]
  },
  {
   "cell_type": "markdown",
   "metadata": {},
   "source": [
    "### Conclusion"
   ]
  },
  {
   "cell_type": "markdown",
   "metadata": {},
   "source": [
    "Fusce tempor ipsum quis rhoncus volutpat. In molestie tortor id tristique condimentum. Nulla id erat vitae velit efficitur bibendum. Duis blandit at erat ac vehicula. Quisque eu purus in orci egestas commodo in nec metus. Donec pulvinar fermentum enim feugiat ornare. Pellentesque cursus imperdiet porttitor. Lorem ipsum dolor sit amet, consectetur adipiscing elit. Sed semper, velit at dignissim dapibus, nisl turpis rhoncus massa, in consequat magna magna ac dolor. Aliquam vitae mattis leo, eu egestas nulla. Vestibulum ante ipsum primis in faucibus orci luctus et ultrices posuere cubilia Curae; Aliquam mauris nibh, imperdiet id malesuada a, consectetur non sapien. Ut ultricies eros augue, ac pellentesque quam luctus mollis.\n",
    "\n",
    "Nullam ultricies, sapien sed tempus eleifend, dui lorem pellentesque orci, sit amet ultricies odio quam ut nisi. Vestibulum cursus, turpis id euismod porta, elit metus posuere mauris, eu bibendum tortor eros sed augue. Nam eu tortor diam. Nullam et arcu vitae ligula dapibus ultrices. Quisque nisi tellus, fringilla ac auctor nec, ullamcorper nec enim. Ut porttitor commodo gravida. Donec facilisis est in justo vulputate, at facilisis odio maximus. Praesent auctor auctor odio eget efficitur. Morbi molestie sem vel feugiat posuere. Fusce ultrices iaculis lorem, sed mollis nibh egestas sed. Aliquam volutpat a quam nec imperdiet. "
   ]
  },
  {
   "cell_type": "code",
   "execution_count": null,
   "metadata": {},
   "outputs": [],
   "source": []
  }
 ],
 "metadata": {
  "kernelspec": {
   "display_name": "Python 3",
   "language": "python",
   "name": "python3"
  },
  "language_info": {
   "codemirror_mode": {
    "name": "ipython",
    "version": 3
   },
   "file_extension": ".py",
   "mimetype": "text/x-python",
   "name": "python",
   "nbconvert_exporter": "python",
   "pygments_lexer": "ipython3",
   "version": "3.6.4"
  }
 },
 "nbformat": 4,
 "nbformat_minor": 2
}
